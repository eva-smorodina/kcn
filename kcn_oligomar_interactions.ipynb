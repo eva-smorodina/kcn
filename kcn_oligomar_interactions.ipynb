{
 "cells": [
  {
   "cell_type": "code",
   "execution_count": 1,
   "id": "8f623585-8fe3-4a1f-8488-d45cc33b7a41",
   "metadata": {},
   "outputs": [],
   "source": [
    "import os\n",
    "import numpy as np\n",
    "import pandas as pd\n",
    "import matplotlib.pyplot as plt\n",
    "import matplotlib.patches as mpatches\n",
    "import seaborn as sns\n",
    "from pymol import cmd"
   ]
  },
  {
   "cell_type": "code",
   "execution_count": 2,
   "id": "a5ce6324-50a3-47b9-87c5-0195ab7ad17b",
   "metadata": {},
   "outputs": [],
   "source": [
    "# Launch PyMOL with the \"-R\" option (pymol -R), \n",
    "# open a Python 3 notebook, then execute \n",
    "# remote control of PyMOL (RPC) with XML-RPC:\n",
    "# https://pymolwiki.org/index.php/Jupyter\n",
    "# https://pymolwiki.org/index.php/RPC\n",
    "\n",
    "import xmlrpc.client as xmlrpclib\n",
    "cmd = xmlrpclib.ServerProxy('http://localhost:9123')\n",
    "\n",
    "#from IPython import display\n",
    "import os\n",
    "import time\n",
    "import pandas as pd\n",
    "import matplotlib.pyplot as plt\n",
    "import seaborn as sns"
   ]
  },
  {
   "cell_type": "code",
   "execution_count": 3,
   "id": "2162e257-c17d-4311-ad1f-690d3fc37fd3",
   "metadata": {},
   "outputs": [],
   "source": [
    "pymol_session = '/home/evasmo/work/other/kcn_mono_oligo_interface_contacts.pse'"
   ]
  },
  {
   "cell_type": "code",
   "execution_count": 4,
   "id": "7d8ec686-b8e9-4c3e-a0cb-1d94b12e2dd4",
   "metadata": {},
   "outputs": [],
   "source": [
    "sequences = {'KCNN4':\n",
    "                {'native': 'RRRKRLLEQEKSLAGWALVLAGTGIGLMVLHAEMLWFGGCSWALYLFLVKCTISISTFLLLCLIVAFHAKEVQLFMTDNGLRDWRVALTGRQAAQIVLELVVCGLHPAPVRPGFLGQGEALLSLAMLLRLYLVPRAVLLRSGVLLNASYRSIGALNQVRFRHWFVAKLYMNTHPGRLLLGLTLGLWLTTAWVLSVAERQAVNATGHLSDTLWLIPITFLTIGYGDVVPGTMWGKIVCLCTGVMGVCCTALLVAVVARKLEFNKAEKH', \n",
    "                 'qty':    'RRRKRLLEQEKSLAGWAQTQAGTGTGQMTQHAEMQWYGGCSWALYLYQTKCTTSTSTYQQQCQTTAYHAKEVQLFMTDNGLRDWRVALTGRQAAQTTQEQTTCGQHPAPTRPGYQGQGEAQQSQAMQQRQYQTPRAVLLRSGVLLNASYRSIGALNQVRFRHWFVAKLYMNTHPGRQQQGQTQGQWQTTAWTQSTAERQAVNATGHLSDTLWLIPITFLTIGYGDVVPGTMWGKTTCQCTGTMGTCCTAQQTATTARKLEFNKAEKH', \n",
    "                 'cryoem': 'RRRKRLLEQEKSLAGWALVLAGTGIGLMVLHAEMLWFGGCSWALYLFLVKCTISISTFLLLCLIVAFHAKEVQLFMTDNGLRDWRVALTGRQAAQIVLELVVCGLHPAPVRPGFLGQGEALLSLAMLLRLYLVPRAVLLRSGVLLNASYRSIGALNQVRFRHWFVAKLYMNTHPGRLLLGLTLGLWLTTAWVLSVAERQAVNATGHLSDTLWLIPITFLTIGYGDVVPGTMWGKIVCLCTGVMGVCCTALLVAVVARKLEFNKAEKH'},\n",
    "             'KCNJ11':\n",
    "                {'native': 'KWPHTLLIFTMSFLCSWLLFAMAWWLIAFAHGDLAPSEGTAEPCVTSIHSFSSAFLFSIEVQVTIGFGGRMVTEECPLAILILIVQNIVGLMINAIMLGCIFMKTAQAHRR',\n",
    "                 'qty':    'KWPHTQQTYTMSYQCSWQQYAMAWWQTAFAHGDLAPSEGTAEPCVTSIHSYSSAYQYSTETQTTTGYGGRMVTEECPLATQTQTTQNTTGQMTNATMQGCTFMKTAQAHRR',\n",
    "                 'cryoem': 'KWPHTLLIFTMSFLCSWLLFAMAWWLIAFAHGDLAPSEGTAEPCVTSIHSFSSAFLFSIEVQVTIGFGGRMVTEECPLAILILIVQNIVGLMINAIMLGCIFMKTAQAHRR'}        \n",
    "    }"
   ]
  },
  {
   "cell_type": "code",
   "execution_count": 5,
   "id": "459bf42a-5694-45b4-865d-42aa1bf22787",
   "metadata": {},
   "outputs": [],
   "source": [
    "cmd.load(pymol_session)\n",
    "cmd.do('set internal_gui_width, 400')"
   ]
  },
  {
   "cell_type": "code",
   "execution_count": 6,
   "id": "e338de27-f226-4731-bee1-cb6c9e38036e",
   "metadata": {},
   "outputs": [],
   "source": [
    "objects = cmd.get_object_list()"
   ]
  },
  {
   "cell_type": "code",
   "execution_count": 7,
   "id": "d138c853-f170-4e10-b7a5-c0ab60af5d72",
   "metadata": {},
   "outputs": [],
   "source": [
    "kcnn4_objects = [o for o in objects if 'KCNN4' in o]\n",
    "kcnj11_objects = [o for o in objects if 'KCNJ11' in o]"
   ]
  },
  {
   "cell_type": "code",
   "execution_count": 8,
   "id": "d1dbbf80-adef-40e6-abd9-80045f224bae",
   "metadata": {},
   "outputs": [],
   "source": [
    "systems = {'KCNN4': kcnn4_objects,\n",
    "           'KCNJ11': kcnj11_objects}"
   ]
  },
  {
   "cell_type": "code",
   "execution_count": 9,
   "id": "9649400d-8fd3-484e-809e-078cb2bbd398",
   "metadata": {},
   "outputs": [],
   "source": [
    "def get_overlap(list1, list2):\n",
    "    overlap = set(list1) & set(list2)\n",
    "    return list(overlap), len(overlap), len(list1), len(list2)\n",
    "\n",
    "def find_diff(str1, str2):\n",
    "    # Ensure both strings are of the same length to avoid index errors\n",
    "    min_len = min(len(str1), len(str2))\n",
    "    \n",
    "    # Compare characters in both strings and note positions where they differ, starting from 1\n",
    "    diff_positions = [i + 1 for i in range(min_len) if str1[i] != str2[i]]\n",
    "    \n",
    "    # If the strings are of different lengths, append the extra characters' positions\n",
    "    if len(str1) > len(str2):\n",
    "        diff_positions.extend(range(min_len + 1, len(str1) + 1))\n",
    "    elif len(str2) > len(str1):\n",
    "        diff_positions.extend(range(min_len + 1, len(str2) + 1))\n",
    "    \n",
    "    return diff_positions"
   ]
  },
  {
   "cell_type": "code",
   "execution_count": 10,
   "id": "ec068e02-8b9f-47a4-866a-a4165f0411fe",
   "metadata": {
    "scrolled": true
   },
   "outputs": [],
   "source": [
    "def interface(protein):\n",
    "\n",
    "    cmd.show('cartoon')\n",
    "    \n",
    "    [cmd.align(o, f'*_cryoem_{protein}') for o in systems[protein] if not o.endswith(protein)]\n",
    "    \n",
    "    cmd.do(f'''select {protein}_cryoem_oligo_cont, (byres all within 5 of {protein}_cryoem*) and (not chain A and *_cryoem_{protein})\n",
    "    select {protein}_qty_solv_oligo_cont, (byres all within 5 of {protein}_qty_solv*) and (not chain A and *_cryoem_{protein})\n",
    "    select {protein}_qty_mem_oligo_cont, (byres all within 5 of {protein}_qty_400*) and (not chain A and *_cryoem_{protein})\n",
    "    select {protein}_native_oligo_cont, (byres all within 5 of {protein}_native*) and (not chain A and *_cryoem_{protein})\n",
    "    \n",
    "    select {protein}_cryoem_mono_cont, (byres all within 5 of {protein}_cryoem_oligo_cont) and ({protein}_cryoem_400*)\n",
    "    select {protein}_qty_solv_mono_cont, (byres all within 5 of {protein}_qty_solv_oligo_cont) and ({protein}_qty_solvent*)\n",
    "    select {protein}_qty_mem_mono_cont, (byres all within 5 of {protein}_qty_mem_oligo_cont) and ({protein}_qty_400*)\n",
    "    select {protein}_native_mono_cont, (byres all within 5 of {protein}_native_oligo_cont) and ({protein}_native_400*)''')\n",
    "    \n",
    "    selections = [\n",
    "        f'{protein}_cryoem_oligo_cont', f'{protein}_qty_solv_oligo_cont', f'{protein}_qty_mem_oligo_cont', f'{protein}_native_oligo_cont', \n",
    "        f'{protein}_cryoem_mono_cont', f'{protein}_qty_solv_mono_cont', f'{protein}_qty_mem_mono_cont', f'{protein}_native_mono_cont'\n",
    "    ]\n",
    "    \n",
    "    selected_residues = {}\n",
    "    \n",
    "    for selection in selections:\n",
    "        model = cmd.get_model(selection)\n",
    "        temp = []\n",
    "        for atom in model['atom']:\n",
    "        #if atom['name'] == 'CA': \n",
    "            resi = atom['resi_number']\n",
    "            resn = atom['resn']\n",
    "            temp.append((resn, resi))\n",
    "            \n",
    "        selected_residues[selection] = list(set(temp))\n",
    "    \n",
    "    # Overlap between structural interfaces of different systems (how similar are structiral interfaces)\n",
    "    cryoem_cryoem = get_overlap(selected_residues[f'{protein}_cryoem_oligo_cont'], selected_residues[f'{protein}_cryoem_oligo_cont'])\n",
    "    cryoem_qty_solv = get_overlap(selected_residues[f'{protein}_cryoem_oligo_cont'], selected_residues[f'{protein}_qty_solv_oligo_cont'])\n",
    "    cryoem_qty_mem = get_overlap(selected_residues[f'{protein}_cryoem_oligo_cont'], selected_residues[f'{protein}_qty_mem_oligo_cont'])\n",
    "    #cryoem_native = get_overlap(selected_residues[f'{protein}_cryoem_oligo_cont'], selected_residues[f'{protein}_native_oligo_cont'])\n",
    "    \n",
    "    assert cryoem_cryoem[1] == cryoem_cryoem[2] == cryoem_cryoem[3]\n",
    "    \n",
    "    qty_mut_pos = find_diff(sequences[protein]['native'], sequences[protein]['qty'])\n",
    "    \n",
    "    # Overlap between QTY mutations and the interfaces (how many mutations are at the interface)\n",
    "    cryoem_cryoem_inter = get_overlap(qty_mut_pos, [i[1] for i in cryoem_cryoem[0]])\n",
    "    cryoem_qty_solv_inter = get_overlap(qty_mut_pos, [i[1] for i in cryoem_qty_solv[0]])\n",
    "    cryoem_qty_mem_inter = get_overlap(qty_mut_pos, [i[1] for i in cryoem_qty_mem[0]])\n",
    "    #cryoem_native_inter = get_overlap(qty_mut_pos, [i[1] for i in cryoem_native[0]])\n",
    "    \n",
    "    print('How many monomer residues are at the interface in the Cryo-EM structure?') # All interface residues\n",
    "    print(f\"Cryo-EM: {cryoem_cryoem[3]} out of {len(sequences[protein]['cryoem'])} residues are at the interface ({round((cryoem_cryoem[3] / len(sequences[protein]['cryoem'])) * 100, 2)}%)\\n\")\n",
    "    \n",
    "    print('How many monomer residues are at the interface in the QTY structure?') # All interface residues\n",
    "    print(f\"QTY in water: {cryoem_qty_solv[3]} out of {len(sequences[protein]['qty'])} residues are at the interface ({round((cryoem_qty_solv[3] / len(sequences[protein]['qty'])) * 100, 2)}%)\")\n",
    "    print(f\"QTY in membrane: {cryoem_qty_mem[3]} out of {len(sequences[protein]['qty'])} residues are at the interface ({round((cryoem_qty_mem[3] / len(sequences[protein]['qty'])) * 100, 2)}%)\\n\")\n",
    "    \n",
    "    print('How many Cryo-EM monomer interface residues were mutated to QTY?') # Mutated interface residues\n",
    "    print(f\"Cryo-EM: {cryoem_cryoem_inter[1]} out of {cryoem_cryoem_inter[3]} residues were mutated ({round((cryoem_cryoem_inter[1] / cryoem_cryoem_inter[3]) * 100, 2)}% out of Cryo-EM interface and {round((cryoem_cryoem_inter[1] / len(qty_mut_pos)) * 100, 2)}% out of all QTY mutations)\\n\")\n",
    "    \n",
    "    print('How many mutations are at the interface in QTY in water and membrane?') # Mutated interface residues\n",
    "    print(f\"QTY in water: {cryoem_qty_solv_inter[1]} out of {cryoem_qty_solv_inter[2]} ({round((cryoem_qty_solv_inter[1] / cryoem_qty_solv_inter[3]) * 100, 2)}% out of QTY interface and {round((cryoem_qty_solv_inter[1] / len(qty_mut_pos)) * 100, 2)}% out of all QTY mutations)\")\n",
    "    print(f\"QTY in membrane: {cryoem_qty_mem_inter[1]} out of {cryoem_qty_mem_inter[2]} ({round((cryoem_qty_mem_inter[1] / cryoem_qty_mem_inter[3]) * 100, 2)}% out of QTY interface and {round((cryoem_qty_mem_inter[1] / len(qty_mut_pos)) * 100, 2)}% out of all QTY mutations)\")\n",
    "    \n",
    "    cmd.do(f'''select {protein}_qty_solv_inter, resi {'+'.join([str(i) for i in cryoem_qty_solv_inter[0]])} and {protein}_qty_solvent*\n",
    "    select {protein}_qty_mem_inter, resi {'+'.join([str(i) for i in cryoem_qty_mem_inter[0]])} and {protein}_qty_400*\n",
    "    select {protein}_qty_solv_all_mut, resi {'+'.join([str(i) for i in qty_mut_pos])} and {protein}_qty_solvent*\n",
    "    select {protein}_qty_mem_all_mut, resi {'+'.join([str(i) for i in qty_mut_pos])} and {protein}_qty_400*\n",
    "    ''')\n",
    "    \n",
    "    cmd.show('spheres', f'name CA and ({protein}_qty_solv_all_mut or {protein}_qty_mem_all_mut)')\n",
    "    cmd.do('set sphere_scale, 0.5')\n",
    "    #cmd.do('''color red, elem O\n",
    "    #color slate, elem N\n",
    "    #color gray98, elem H''')\n",
    "    cmd.color('black', f'{protein}_qty_solv_inter or {protein}_qty_mem_inter')\n",
    "    cmd.do('set cartoon_transparency, 0.5')"
   ]
  },
  {
   "cell_type": "code",
   "execution_count": 11,
   "id": "d5b942ee-93a2-4f1b-9890-5d3e8b874874",
   "metadata": {},
   "outputs": [
    {
     "name": "stdout",
     "output_type": "stream",
     "text": [
      "How many monomer residues are at the interface in the Cryo-EM structure?\n",
      "Cryo-EM: 77 out of 267 residues are at the interface (28.84%)\n",
      "\n",
      "How many monomer residues are at the interface in the QTY structure?\n",
      "QTY in water: 61 out of 267 residues are at the interface (22.85%)\n",
      "QTY in membrane: 73 out of 267 residues are at the interface (27.34%)\n",
      "\n",
      "How many Cryo-EM monomer interface residues were mutated to QTY?\n",
      "Cryo-EM: 9 out of 77 residues were mutated (11.69% out of Cryo-EM interface and 15.0% out of all QTY mutations)\n",
      "\n",
      "How many mutations are at the interface in QTY in water and membrane?\n",
      "QTY in water: 5 out of 60 (12.2% out of QTY interface and 8.33% out of all QTY mutations)\n",
      "QTY in membrane: 5 out of 60 (9.43% out of QTY interface and 8.33% out of all QTY mutations)\n"
     ]
    }
   ],
   "source": [
    "interface('KCNN4')"
   ]
  },
  {
   "cell_type": "code",
   "execution_count": 12,
   "id": "a943fe06-12ce-42fd-b79f-bcdad78bc803",
   "metadata": {},
   "outputs": [
    {
     "name": "stdout",
     "output_type": "stream",
     "text": [
      "How many monomer residues are at the interface in the Cryo-EM structure?\n",
      "Cryo-EM: 91 out of 111 residues are at the interface (81.98%)\n",
      "\n",
      "How many monomer residues are at the interface in the QTY structure?\n",
      "QTY in water: 79 out of 111 residues are at the interface (71.17%)\n",
      "QTY in membrane: 86 out of 111 residues are at the interface (77.48%)\n",
      "\n",
      "How many Cryo-EM monomer interface residues were mutated to QTY?\n",
      "Cryo-EM: 7 out of 91 residues were mutated (7.69% out of Cryo-EM interface and 21.21% out of all QTY mutations)\n",
      "\n",
      "How many mutations are at the interface in QTY in water and membrane?\n",
      "QTY in water: 5 out of 33 (8.33% out of QTY interface and 15.15% out of all QTY mutations)\n",
      "QTY in membrane: 6 out of 33 (8.45% out of QTY interface and 18.18% out of all QTY mutations)\n"
     ]
    }
   ],
   "source": [
    "interface('KCNJ11')"
   ]
  }
 ],
 "metadata": {
  "kernelspec": {
   "display_name": "pymol",
   "language": "python",
   "name": "pymol"
  },
  "language_info": {
   "codemirror_mode": {
    "name": "ipython",
    "version": 3
   },
   "file_extension": ".py",
   "mimetype": "text/x-python",
   "name": "python",
   "nbconvert_exporter": "python",
   "pygments_lexer": "ipython3",
   "version": "3.10.13"
  }
 },
 "nbformat": 4,
 "nbformat_minor": 5
}
